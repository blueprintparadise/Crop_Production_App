{
 "cells": [
  {
   "cell_type": "code",
   "execution_count": 1,
   "metadata": {
    "_cell_guid": "b1076dfc-b9ad-4769-8c92-a6c4dae69d19",
    "_uuid": "8f2839f25d086af736a60e9eeb907d3b93b6e0e5",
    "execution": {
     "iopub.execute_input": "2021-03-14T09:28:26.387457Z",
     "iopub.status.busy": "2021-03-14T09:28:26.386585Z",
     "iopub.status.idle": "2021-03-14T09:28:26.399538Z",
     "shell.execute_reply": "2021-03-14T09:28:26.398731Z"
    },
    "papermill": {
     "duration": 0.049078,
     "end_time": "2021-03-14T09:28:26.399682",
     "exception": false,
     "start_time": "2021-03-14T09:28:26.350604",
     "status": "completed"
    },
    "tags": []
   },
   "outputs": [
    {
     "name": "stdout",
     "output_type": "stream",
     "text": [
      "/kaggle/input/crop-production-data/cpdata.csv\n"
     ]
    }
   ],
   "source": [
    "# This Python 3 environment comes with many helpful analytics libraries installed\n",
    "# It is defined by the kaggle/python Docker image: https://github.com/kaggle/docker-python\n",
    "# For example, here's several helpful packages to load\n",
    "\n",
    "import numpy as np # linear algebra\n",
    "import pandas as pd # data processing, CSV file I/O (e.g. pd.read_csv)\n",
    "\n",
    "# Input data files are available in the read-only \"../input/\" directory\n",
    "# For example, running this (by clicking run or pressing Shift+Enter) will list all files under the input directory\n",
    "\n",
    "import os\n",
    "for dirname, _, filenames in os.walk('/kaggle/input'):\n",
    "    for filename in filenames:\n",
    "        print(os.path.join(dirname, filename))\n",
    "\n",
    "# You can write up to 20GB to the current directory (/kaggle/working/) that gets preserved as output when you create a version using \"Save & Run All\" \n",
    "# You can also write temporary files to /kaggle/temp/, but they won't be saved outside of the current session"
   ]
  },
  {
   "cell_type": "code",
   "execution_count": 2,
   "metadata": {
    "_cell_guid": "79c7e3d0-c299-4dcb-8224-4455121ee9b0",
    "_uuid": "d629ff2d2480ee46fbb7e2d37f6b5fab8052498a",
    "execution": {
     "iopub.execute_input": "2021-03-14T09:28:26.462989Z",
     "iopub.status.busy": "2021-03-14T09:28:26.462229Z",
     "iopub.status.idle": "2021-03-14T09:28:26.485309Z",
     "shell.execute_reply": "2021-03-14T09:28:26.484567Z"
    },
    "papermill": {
     "duration": 0.05717,
     "end_time": "2021-03-14T09:28:26.485467",
     "exception": false,
     "start_time": "2021-03-14T09:28:26.428297",
     "status": "completed"
    },
    "tags": []
   },
   "outputs": [],
   "source": [
    "df = pd.read_csv('/kaggle/input/crop-production-data/cpdata.csv')"
   ]
  },
  {
   "cell_type": "code",
   "execution_count": 3,
   "metadata": {
    "execution": {
     "iopub.execute_input": "2021-03-14T09:28:26.570810Z",
     "iopub.status.busy": "2021-03-14T09:28:26.566690Z",
     "iopub.status.idle": "2021-03-14T09:28:26.584399Z",
     "shell.execute_reply": "2021-03-14T09:28:26.583564Z"
    },
    "papermill": {
     "duration": 0.071106,
     "end_time": "2021-03-14T09:28:26.584538",
     "exception": false,
     "start_time": "2021-03-14T09:28:26.513432",
     "status": "completed"
    },
    "tags": []
   },
   "outputs": [
    {
     "data": {
      "text/html": [
       "<div>\n",
       "<style scoped>\n",
       "    .dataframe tbody tr th:only-of-type {\n",
       "        vertical-align: middle;\n",
       "    }\n",
       "\n",
       "    .dataframe tbody tr th {\n",
       "        vertical-align: top;\n",
       "    }\n",
       "\n",
       "    .dataframe thead th {\n",
       "        text-align: right;\n",
       "    }\n",
       "</style>\n",
       "<table border=\"1\" class=\"dataframe\">\n",
       "  <thead>\n",
       "    <tr style=\"text-align: right;\">\n",
       "      <th></th>\n",
       "      <th>temperature</th>\n",
       "      <th>humidity</th>\n",
       "      <th>ph</th>\n",
       "      <th>rainfall</th>\n",
       "      <th>label</th>\n",
       "    </tr>\n",
       "  </thead>\n",
       "  <tbody>\n",
       "    <tr>\n",
       "      <th>2397</th>\n",
       "      <td>27.237083</td>\n",
       "      <td>82.945733</td>\n",
       "      <td>6.224543</td>\n",
       "      <td>70.425089</td>\n",
       "      <td>grapes</td>\n",
       "    </tr>\n",
       "    <tr>\n",
       "      <th>1201</th>\n",
       "      <td>23.222819</td>\n",
       "      <td>70.071477</td>\n",
       "      <td>5.070481</td>\n",
       "      <td>278.307588</td>\n",
       "      <td>Rubber</td>\n",
       "    </tr>\n",
       "    <tr>\n",
       "      <th>1233</th>\n",
       "      <td>22.091044</td>\n",
       "      <td>71.068652</td>\n",
       "      <td>5.749470</td>\n",
       "      <td>230.610213</td>\n",
       "      <td>Rubber</td>\n",
       "    </tr>\n",
       "    <tr>\n",
       "      <th>685</th>\n",
       "      <td>21.797926</td>\n",
       "      <td>63.730861</td>\n",
       "      <td>6.250994</td>\n",
       "      <td>46.623702</td>\n",
       "      <td>Lentil</td>\n",
       "    </tr>\n",
       "    <tr>\n",
       "      <th>1968</th>\n",
       "      <td>53.833292</td>\n",
       "      <td>64.735711</td>\n",
       "      <td>6.864201</td>\n",
       "      <td>104.220644</td>\n",
       "      <td>Adzuki Beans</td>\n",
       "    </tr>\n",
       "    <tr>\n",
       "      <th>2062</th>\n",
       "      <td>28.092690</td>\n",
       "      <td>44.933220</td>\n",
       "      <td>4.895927</td>\n",
       "      <td>197.114401</td>\n",
       "      <td>Pigeon Peas</td>\n",
       "    </tr>\n",
       "  </tbody>\n",
       "</table>\n",
       "</div>"
      ],
      "text/plain": [
       "      temperature   humidity        ph    rainfall         label\n",
       "2397    27.237083  82.945733  6.224543   70.425089        grapes\n",
       "1201    23.222819  70.071477  5.070481  278.307588        Rubber\n",
       "1233    22.091044  71.068652  5.749470  230.610213        Rubber\n",
       "685     21.797926  63.730861  6.250994   46.623702        Lentil\n",
       "1968    53.833292  64.735711  6.864201  104.220644  Adzuki Beans\n",
       "2062    28.092690  44.933220  4.895927  197.114401   Pigeon Peas"
      ]
     },
     "execution_count": 3,
     "metadata": {},
     "output_type": "execute_result"
    }
   ],
   "source": [
    "df.sample(6)"
   ]
  },
  {
   "cell_type": "code",
   "execution_count": 4,
   "metadata": {
    "execution": {
     "iopub.execute_input": "2021-03-14T09:28:26.654484Z",
     "iopub.status.busy": "2021-03-14T09:28:26.653418Z",
     "iopub.status.idle": "2021-03-14T09:28:26.657589Z",
     "shell.execute_reply": "2021-03-14T09:28:26.656989Z"
    },
    "papermill": {
     "duration": 0.04419,
     "end_time": "2021-03-14T09:28:26.657734",
     "exception": false,
     "start_time": "2021-03-14T09:28:26.613544",
     "status": "completed"
    },
    "tags": []
   },
   "outputs": [
    {
     "data": {
      "text/plain": [
       "temperature    0\n",
       "humidity       0\n",
       "ph             0\n",
       "rainfall       0\n",
       "label          0\n",
       "dtype: int64"
      ]
     },
     "execution_count": 4,
     "metadata": {},
     "output_type": "execute_result"
    }
   ],
   "source": [
    "df.isnull().sum()"
   ]
  },
  {
   "cell_type": "code",
   "execution_count": 5,
   "metadata": {
    "execution": {
     "iopub.execute_input": "2021-03-14T09:28:26.721645Z",
     "iopub.status.busy": "2021-03-14T09:28:26.720833Z",
     "iopub.status.idle": "2021-03-14T09:28:26.724479Z",
     "shell.execute_reply": "2021-03-14T09:28:26.724993Z"
    },
    "papermill": {
     "duration": 0.038585,
     "end_time": "2021-03-14T09:28:26.725206",
     "exception": false,
     "start_time": "2021-03-14T09:28:26.686621",
     "status": "completed"
    },
    "tags": []
   },
   "outputs": [],
   "source": [
    "# Some Feature Engineering\n",
    "#df['state'] = df.ph.apply(lambda x : 1 if x<7.0 else 0)"
   ]
  },
  {
   "cell_type": "code",
   "execution_count": 6,
   "metadata": {
    "execution": {
     "iopub.execute_input": "2021-03-14T09:28:26.800498Z",
     "iopub.status.busy": "2021-03-14T09:28:26.799020Z",
     "iopub.status.idle": "2021-03-14T09:28:26.803841Z",
     "shell.execute_reply": "2021-03-14T09:28:26.804475Z"
    },
    "papermill": {
     "duration": 0.051301,
     "end_time": "2021-03-14T09:28:26.804657",
     "exception": false,
     "start_time": "2021-03-14T09:28:26.753356",
     "status": "completed"
    },
    "tags": []
   },
   "outputs": [
    {
     "data": {
      "text/html": [
       "<div>\n",
       "<style scoped>\n",
       "    .dataframe tbody tr th:only-of-type {\n",
       "        vertical-align: middle;\n",
       "    }\n",
       "\n",
       "    .dataframe tbody tr th {\n",
       "        vertical-align: top;\n",
       "    }\n",
       "\n",
       "    .dataframe thead th {\n",
       "        text-align: right;\n",
       "    }\n",
       "</style>\n",
       "<table border=\"1\" class=\"dataframe\">\n",
       "  <thead>\n",
       "    <tr style=\"text-align: right;\">\n",
       "      <th></th>\n",
       "      <th>temperature</th>\n",
       "      <th>humidity</th>\n",
       "      <th>ph</th>\n",
       "      <th>rainfall</th>\n",
       "      <th>label</th>\n",
       "    </tr>\n",
       "  </thead>\n",
       "  <tbody>\n",
       "    <tr>\n",
       "      <th>0</th>\n",
       "      <td>20.879744</td>\n",
       "      <td>82.002744</td>\n",
       "      <td>6.502985</td>\n",
       "      <td>202.935536</td>\n",
       "      <td>rice</td>\n",
       "    </tr>\n",
       "    <tr>\n",
       "      <th>1</th>\n",
       "      <td>21.770462</td>\n",
       "      <td>80.319644</td>\n",
       "      <td>7.038096</td>\n",
       "      <td>226.655537</td>\n",
       "      <td>rice</td>\n",
       "    </tr>\n",
       "    <tr>\n",
       "      <th>2</th>\n",
       "      <td>23.004459</td>\n",
       "      <td>82.320763</td>\n",
       "      <td>7.840207</td>\n",
       "      <td>263.964248</td>\n",
       "      <td>rice</td>\n",
       "    </tr>\n",
       "    <tr>\n",
       "      <th>3</th>\n",
       "      <td>26.491096</td>\n",
       "      <td>80.158363</td>\n",
       "      <td>6.980401</td>\n",
       "      <td>242.864034</td>\n",
       "      <td>rice</td>\n",
       "    </tr>\n",
       "    <tr>\n",
       "      <th>4</th>\n",
       "      <td>20.130175</td>\n",
       "      <td>81.604873</td>\n",
       "      <td>7.628473</td>\n",
       "      <td>262.717340</td>\n",
       "      <td>rice</td>\n",
       "    </tr>\n",
       "  </tbody>\n",
       "</table>\n",
       "</div>"
      ],
      "text/plain": [
       "   temperature   humidity        ph    rainfall label\n",
       "0    20.879744  82.002744  6.502985  202.935536  rice\n",
       "1    21.770462  80.319644  7.038096  226.655537  rice\n",
       "2    23.004459  82.320763  7.840207  263.964248  rice\n",
       "3    26.491096  80.158363  6.980401  242.864034  rice\n",
       "4    20.130175  81.604873  7.628473  262.717340  rice"
      ]
     },
     "execution_count": 6,
     "metadata": {},
     "output_type": "execute_result"
    }
   ],
   "source": [
    "df.head()"
   ]
  },
  {
   "cell_type": "code",
   "execution_count": 7,
   "metadata": {
    "execution": {
     "iopub.execute_input": "2021-03-14T09:28:26.874736Z",
     "iopub.status.busy": "2021-03-14T09:28:26.873778Z",
     "iopub.status.idle": "2021-03-14T09:28:28.048299Z",
     "shell.execute_reply": "2021-03-14T09:28:28.047223Z"
    },
    "papermill": {
     "duration": 1.213841,
     "end_time": "2021-03-14T09:28:28.048458",
     "exception": false,
     "start_time": "2021-03-14T09:28:26.834617",
     "status": "completed"
    },
    "tags": []
   },
   "outputs": [],
   "source": [
    "# scaling , ohencoding,\n",
    "\n",
    "from sklearn.preprocessing import StandardScaler\n",
    "scaler = StandardScaler()\n",
    "x = scaler.fit_transform(df.drop(['label'],axis=1))"
   ]
  },
  {
   "cell_type": "code",
   "execution_count": 8,
   "metadata": {
    "execution": {
     "iopub.execute_input": "2021-03-14T09:28:28.115142Z",
     "iopub.status.busy": "2021-03-14T09:28:28.114324Z",
     "iopub.status.idle": "2021-03-14T09:28:28.118343Z",
     "shell.execute_reply": "2021-03-14T09:28:28.117661Z"
    },
    "papermill": {
     "duration": 0.039916,
     "end_time": "2021-03-14T09:28:28.118488",
     "exception": false,
     "start_time": "2021-03-14T09:28:28.078572",
     "status": "completed"
    },
    "tags": []
   },
   "outputs": [],
   "source": [
    "fin_df = pd.DataFrame(x,columns = ['Temprature','Humidity','PH','Rainfall'])"
   ]
  },
  {
   "cell_type": "code",
   "execution_count": 9,
   "metadata": {
    "execution": {
     "iopub.execute_input": "2021-03-14T09:28:28.181579Z",
     "iopub.status.busy": "2021-03-14T09:28:28.180407Z",
     "iopub.status.idle": "2021-03-14T09:28:28.262741Z",
     "shell.execute_reply": "2021-03-14T09:28:28.261790Z"
    },
    "papermill": {
     "duration": 0.115332,
     "end_time": "2021-03-14T09:28:28.262896",
     "exception": false,
     "start_time": "2021-03-14T09:28:28.147564",
     "status": "completed"
    },
    "tags": []
   },
   "outputs": [],
   "source": [
    "df.append?"
   ]
  },
  {
   "cell_type": "code",
   "execution_count": 10,
   "metadata": {
    "execution": {
     "iopub.execute_input": "2021-03-14T09:28:28.329741Z",
     "iopub.status.busy": "2021-03-14T09:28:28.328430Z",
     "iopub.status.idle": "2021-03-14T09:28:28.331749Z",
     "shell.execute_reply": "2021-03-14T09:28:28.331192Z"
    },
    "papermill": {
     "duration": 0.039283,
     "end_time": "2021-03-14T09:28:28.331885",
     "exception": false,
     "start_time": "2021-03-14T09:28:28.292602",
     "status": "completed"
    },
    "tags": []
   },
   "outputs": [],
   "source": [
    "lab = df.label\n",
    "values = lab.values"
   ]
  },
  {
   "cell_type": "code",
   "execution_count": 11,
   "metadata": {
    "execution": {
     "iopub.execute_input": "2021-03-14T09:28:28.402981Z",
     "iopub.status.busy": "2021-03-14T09:28:28.402113Z",
     "iopub.status.idle": "2021-03-14T09:28:28.406176Z",
     "shell.execute_reply": "2021-03-14T09:28:28.405527Z"
    },
    "papermill": {
     "duration": 0.042912,
     "end_time": "2021-03-14T09:28:28.406331",
     "exception": false,
     "start_time": "2021-03-14T09:28:28.363419",
     "status": "completed"
    },
    "tags": []
   },
   "outputs": [],
   "source": [
    "fin_df['Label'] = values"
   ]
  },
  {
   "cell_type": "code",
   "execution_count": 12,
   "metadata": {
    "execution": {
     "iopub.execute_input": "2021-03-14T09:28:28.473305Z",
     "iopub.status.busy": "2021-03-14T09:28:28.472472Z",
     "iopub.status.idle": "2021-03-14T09:28:28.487564Z",
     "shell.execute_reply": "2021-03-14T09:28:28.488200Z"
    },
    "papermill": {
     "duration": 0.050599,
     "end_time": "2021-03-14T09:28:28.488377",
     "exception": false,
     "start_time": "2021-03-14T09:28:28.437778",
     "status": "completed"
    },
    "tags": []
   },
   "outputs": [
    {
     "data": {
      "text/html": [
       "<div>\n",
       "<style scoped>\n",
       "    .dataframe tbody tr th:only-of-type {\n",
       "        vertical-align: middle;\n",
       "    }\n",
       "\n",
       "    .dataframe tbody tr th {\n",
       "        vertical-align: top;\n",
       "    }\n",
       "\n",
       "    .dataframe thead th {\n",
       "        text-align: right;\n",
       "    }\n",
       "</style>\n",
       "<table border=\"1\" class=\"dataframe\">\n",
       "  <thead>\n",
       "    <tr style=\"text-align: right;\">\n",
       "      <th></th>\n",
       "      <th>Temprature</th>\n",
       "      <th>Humidity</th>\n",
       "      <th>PH</th>\n",
       "      <th>Rainfall</th>\n",
       "      <th>Label</th>\n",
       "    </tr>\n",
       "  </thead>\n",
       "  <tbody>\n",
       "    <tr>\n",
       "      <th>0</th>\n",
       "      <td>-0.823351</td>\n",
       "      <td>0.666453</td>\n",
       "      <td>0.165655</td>\n",
       "      <td>1.447924</td>\n",
       "      <td>rice</td>\n",
       "    </tr>\n",
       "    <tr>\n",
       "      <th>1</th>\n",
       "      <td>-0.705610</td>\n",
       "      <td>0.596335</td>\n",
       "      <td>0.826819</td>\n",
       "      <td>1.818328</td>\n",
       "      <td>rice</td>\n",
       "    </tr>\n",
       "    <tr>\n",
       "      <th>2</th>\n",
       "      <td>-0.542493</td>\n",
       "      <td>0.679702</td>\n",
       "      <td>1.817879</td>\n",
       "      <td>2.400929</td>\n",
       "      <td>rice</td>\n",
       "    </tr>\n",
       "    <tr>\n",
       "      <th>3</th>\n",
       "      <td>-0.081608</td>\n",
       "      <td>0.589616</td>\n",
       "      <td>0.755533</td>\n",
       "      <td>2.071435</td>\n",
       "      <td>rice</td>\n",
       "    </tr>\n",
       "    <tr>\n",
       "      <th>4</th>\n",
       "      <td>-0.922434</td>\n",
       "      <td>0.649878</td>\n",
       "      <td>1.556268</td>\n",
       "      <td>2.381457</td>\n",
       "      <td>rice</td>\n",
       "    </tr>\n",
       "  </tbody>\n",
       "</table>\n",
       "</div>"
      ],
      "text/plain": [
       "   Temprature  Humidity        PH  Rainfall Label\n",
       "0   -0.823351  0.666453  0.165655  1.447924  rice\n",
       "1   -0.705610  0.596335  0.826819  1.818328  rice\n",
       "2   -0.542493  0.679702  1.817879  2.400929  rice\n",
       "3   -0.081608  0.589616  0.755533  2.071435  rice\n",
       "4   -0.922434  0.649878  1.556268  2.381457  rice"
      ]
     },
     "execution_count": 12,
     "metadata": {},
     "output_type": "execute_result"
    }
   ],
   "source": [
    "fin_df.head()"
   ]
  },
  {
   "cell_type": "code",
   "execution_count": 13,
   "metadata": {
    "execution": {
     "iopub.execute_input": "2021-03-14T09:28:28.554372Z",
     "iopub.status.busy": "2021-03-14T09:28:28.553434Z",
     "iopub.status.idle": "2021-03-14T09:28:28.582202Z",
     "shell.execute_reply": "2021-03-14T09:28:28.583001Z"
    },
    "papermill": {
     "duration": 0.063656,
     "end_time": "2021-03-14T09:28:28.583220",
     "exception": false,
     "start_time": "2021-03-14T09:28:28.519564",
     "status": "completed"
    },
    "tags": []
   },
   "outputs": [
    {
     "data": {
      "text/html": [
       "<div>\n",
       "<style scoped>\n",
       "    .dataframe tbody tr th:only-of-type {\n",
       "        vertical-align: middle;\n",
       "    }\n",
       "\n",
       "    .dataframe tbody tr th {\n",
       "        vertical-align: top;\n",
       "    }\n",
       "\n",
       "    .dataframe thead th {\n",
       "        text-align: right;\n",
       "    }\n",
       "</style>\n",
       "<table border=\"1\" class=\"dataframe\">\n",
       "  <thead>\n",
       "    <tr style=\"text-align: right;\">\n",
       "      <th></th>\n",
       "      <th>Temprature</th>\n",
       "      <th>Humidity</th>\n",
       "      <th>PH</th>\n",
       "      <th>Rainfall</th>\n",
       "    </tr>\n",
       "  </thead>\n",
       "  <tbody>\n",
       "    <tr>\n",
       "      <th>count</th>\n",
       "      <td>3.100000e+03</td>\n",
       "      <td>3.100000e+03</td>\n",
       "      <td>3.100000e+03</td>\n",
       "      <td>3.100000e+03</td>\n",
       "    </tr>\n",
       "    <tr>\n",
       "      <th>mean</th>\n",
       "      <td>-3.405654e-16</td>\n",
       "      <td>-3.986775e-16</td>\n",
       "      <td>8.847224e-16</td>\n",
       "      <td>6.208296e-16</td>\n",
       "    </tr>\n",
       "    <tr>\n",
       "      <th>std</th>\n",
       "      <td>1.000161e+00</td>\n",
       "      <td>1.000161e+00</td>\n",
       "      <td>1.000161e+00</td>\n",
       "      <td>1.000161e+00</td>\n",
       "    </tr>\n",
       "    <tr>\n",
       "      <th>min</th>\n",
       "      <td>-2.416732e+00</td>\n",
       "      <td>-2.331763e+00</td>\n",
       "      <td>-3.538857e+00</td>\n",
       "      <td>-1.405438e+00</td>\n",
       "    </tr>\n",
       "    <tr>\n",
       "      <th>25%</th>\n",
       "      <td>-5.681324e-01</td>\n",
       "      <td>-4.482779e-01</td>\n",
       "      <td>-5.851266e-01</td>\n",
       "      <td>-7.074514e-01</td>\n",
       "    </tr>\n",
       "    <tr>\n",
       "      <th>50%</th>\n",
       "      <td>-1.329288e-01</td>\n",
       "      <td>1.239476e-01</td>\n",
       "      <td>-3.261257e-02</td>\n",
       "      <td>-2.054388e-01</td>\n",
       "    </tr>\n",
       "    <tr>\n",
       "      <th>75%</th>\n",
       "      <td>2.983677e-01</td>\n",
       "      <td>7.682609e-01</td>\n",
       "      <td>5.840545e-01</td>\n",
       "      <td>4.840507e-01</td>\n",
       "    </tr>\n",
       "    <tr>\n",
       "      <th>max</th>\n",
       "      <td>3.685125e+00</td>\n",
       "      <td>1.415464e+00</td>\n",
       "      <td>4.406244e+00</td>\n",
       "      <td>4.483296e+00</td>\n",
       "    </tr>\n",
       "  </tbody>\n",
       "</table>\n",
       "</div>"
      ],
      "text/plain": [
       "         Temprature      Humidity            PH      Rainfall\n",
       "count  3.100000e+03  3.100000e+03  3.100000e+03  3.100000e+03\n",
       "mean  -3.405654e-16 -3.986775e-16  8.847224e-16  6.208296e-16\n",
       "std    1.000161e+00  1.000161e+00  1.000161e+00  1.000161e+00\n",
       "min   -2.416732e+00 -2.331763e+00 -3.538857e+00 -1.405438e+00\n",
       "25%   -5.681324e-01 -4.482779e-01 -5.851266e-01 -7.074514e-01\n",
       "50%   -1.329288e-01  1.239476e-01 -3.261257e-02 -2.054388e-01\n",
       "75%    2.983677e-01  7.682609e-01  5.840545e-01  4.840507e-01\n",
       "max    3.685125e+00  1.415464e+00  4.406244e+00  4.483296e+00"
      ]
     },
     "execution_count": 13,
     "metadata": {},
     "output_type": "execute_result"
    }
   ],
   "source": [
    "fin_df.describe()"
   ]
  },
  {
   "cell_type": "code",
   "execution_count": 14,
   "metadata": {
    "execution": {
     "iopub.execute_input": "2021-03-14T09:28:28.653191Z",
     "iopub.status.busy": "2021-03-14T09:28:28.652348Z",
     "iopub.status.idle": "2021-03-14T09:28:28.655287Z",
     "shell.execute_reply": "2021-03-14T09:28:28.655953Z"
    },
    "papermill": {
     "duration": 0.041822,
     "end_time": "2021-03-14T09:28:28.656146",
     "exception": false,
     "start_time": "2021-03-14T09:28:28.614324",
     "status": "completed"
    },
    "tags": []
   },
   "outputs": [
    {
     "name": "stdout",
     "output_type": "stream",
     "text": [
      "Object `plt.scatter` not found.\n"
     ]
    }
   ],
   "source": [
    "plt.scatter?"
   ]
  },
  {
   "cell_type": "code",
   "execution_count": 15,
   "metadata": {
    "execution": {
     "iopub.execute_input": "2021-03-14T09:28:28.724590Z",
     "iopub.status.busy": "2021-03-14T09:28:28.723729Z",
     "iopub.status.idle": "2021-03-14T09:28:28.996423Z",
     "shell.execute_reply": "2021-03-14T09:28:28.995694Z"
    },
    "papermill": {
     "duration": 0.308531,
     "end_time": "2021-03-14T09:28:28.996585",
     "exception": false,
     "start_time": "2021-03-14T09:28:28.688054",
     "status": "completed"
    },
    "tags": []
   },
   "outputs": [
    {
     "data": {
      "text/plain": [
       "<matplotlib.collections.PathCollection at 0x7fa4b4ee8210>"
      ]
     },
     "execution_count": 15,
     "metadata": {},
     "output_type": "execute_result"
    },
    {
     "data": {
      "image/png": "[encoded data removed]",
      "text/plain": [
       "<Figure size 432x288 with 1 Axes>"
      ]
     },
     "metadata": {
      "needs_background": "light"
     },
     "output_type": "display_data"
    }
   ],
   "source": [
    "import matplotlib.pyplot as plt\n",
    "plt.scatter(x=df['temperature'],y=df['rainfall'],c='r')"
   ]
  },
  {
   "cell_type": "code",
   "execution_count": null,
   "metadata": {
    "papermill": {
     "duration": 0.036789,
     "end_time": "2021-03-14T09:28:29.072918",
     "exception": false,
     "start_time": "2021-03-14T09:28:29.036129",
     "status": "completed"
    },
    "tags": []
   },
   "outputs": [],
   "source": []
  },
  {
   "cell_type": "code",
   "execution_count": 16,
   "metadata": {
    "execution": {
     "iopub.execute_input": "2021-03-14T09:28:29.145478Z",
     "iopub.status.busy": "2021-03-14T09:28:29.144084Z",
     "iopub.status.idle": "2021-03-14T09:28:29.218174Z",
     "shell.execute_reply": "2021-03-14T09:28:29.218755Z"
    },
    "papermill": {
     "duration": 0.112053,
     "end_time": "2021-03-14T09:28:29.218950",
     "exception": false,
     "start_time": "2021-03-14T09:28:29.106897",
     "status": "completed"
    },
    "tags": []
   },
   "outputs": [],
   "source": [
    "from sklearn.model_selection import train_test_split\n",
    "X_train, X_test, y_train, y_test = train_test_split(fin_df.drop('Label',axis=1), fin_df.Label, test_size=0.33)"
   ]
  },
  {
   "cell_type": "code",
   "execution_count": 17,
   "metadata": {
    "execution": {
     "iopub.execute_input": "2021-03-14T09:28:29.299285Z",
     "iopub.status.busy": "2021-03-14T09:28:29.298477Z",
     "iopub.status.idle": "2021-03-14T09:28:29.304384Z",
     "shell.execute_reply": "2021-03-14T09:28:29.303431Z"
    },
    "papermill": {
     "duration": 0.052381,
     "end_time": "2021-03-14T09:28:29.304568",
     "exception": false,
     "start_time": "2021-03-14T09:28:29.252187",
     "status": "completed"
    },
    "tags": []
   },
   "outputs": [
    {
     "data": {
      "text/html": [
       "<div>\n",
       "<style scoped>\n",
       "    .dataframe tbody tr th:only-of-type {\n",
       "        vertical-align: middle;\n",
       "    }\n",
       "\n",
       "    .dataframe tbody tr th {\n",
       "        vertical-align: top;\n",
       "    }\n",
       "\n",
       "    .dataframe thead th {\n",
       "        text-align: right;\n",
       "    }\n",
       "</style>\n",
       "<table border=\"1\" class=\"dataframe\">\n",
       "  <thead>\n",
       "    <tr style=\"text-align: right;\">\n",
       "      <th></th>\n",
       "      <th>Temprature</th>\n",
       "      <th>Humidity</th>\n",
       "      <th>PH</th>\n",
       "      <th>Rainfall</th>\n",
       "    </tr>\n",
       "  </thead>\n",
       "  <tbody>\n",
       "    <tr>\n",
       "      <th>1321</th>\n",
       "      <td>0.173529</td>\n",
       "      <td>0.563206</td>\n",
       "      <td>0.145529</td>\n",
       "      <td>1.010094</td>\n",
       "    </tr>\n",
       "    <tr>\n",
       "      <th>2765</th>\n",
       "      <td>-1.837391</td>\n",
       "      <td>1.167412</td>\n",
       "      <td>-0.018398</td>\n",
       "      <td>-0.061579</td>\n",
       "    </tr>\n",
       "    <tr>\n",
       "      <th>227</th>\n",
       "      <td>0.104149</td>\n",
       "      <td>0.946203</td>\n",
       "      <td>0.513055</td>\n",
       "      <td>-0.818486</td>\n",
       "    </tr>\n",
       "    <tr>\n",
       "      <th>2222</th>\n",
       "      <td>-0.260618</td>\n",
       "      <td>0.786484</td>\n",
       "      <td>-0.214693</td>\n",
       "      <td>-0.292772</td>\n",
       "    </tr>\n",
       "    <tr>\n",
       "      <th>435</th>\n",
       "      <td>2.516673</td>\n",
       "      <td>-2.240954</td>\n",
       "      <td>1.047150</td>\n",
       "      <td>-1.001676</td>\n",
       "    </tr>\n",
       "  </tbody>\n",
       "</table>\n",
       "</div>"
      ],
      "text/plain": [
       "      Temprature  Humidity        PH  Rainfall\n",
       "1321    0.173529  0.563206  0.145529  1.010094\n",
       "2765   -1.837391  1.167412 -0.018398 -0.061579\n",
       "227     0.104149  0.946203  0.513055 -0.818486\n",
       "2222   -0.260618  0.786484 -0.214693 -0.292772\n",
       "435     2.516673 -2.240954  1.047150 -1.001676"
      ]
     },
     "execution_count": 17,
     "metadata": {},
     "output_type": "execute_result"
    }
   ],
   "source": [
    "X_train.head()"
   ]
  },
  {
   "cell_type": "code",
   "execution_count": 18,
   "metadata": {
    "execution": {
     "iopub.execute_input": "2021-03-14T09:28:29.376902Z",
     "iopub.status.busy": "2021-03-14T09:28:29.376111Z",
     "iopub.status.idle": "2021-03-14T09:28:29.565275Z",
     "shell.execute_reply": "2021-03-14T09:28:29.565840Z"
    },
    "papermill": {
     "duration": 0.227166,
     "end_time": "2021-03-14T09:28:29.566011",
     "exception": false,
     "start_time": "2021-03-14T09:28:29.338845",
     "status": "completed"
    },
    "tags": []
   },
   "outputs": [
    {
     "data": {
      "text/plain": [
       "SVC()"
      ]
     },
     "execution_count": 18,
     "metadata": {},
     "output_type": "execute_result"
    }
   ],
   "source": [
    "from sklearn.svm import SVC\n",
    "svc = SVC()\n",
    "svc.fit(X_train,y_train)\n"
   ]
  },
  {
   "cell_type": "code",
   "execution_count": 19,
   "metadata": {
    "execution": {
     "iopub.execute_input": "2021-03-14T09:28:29.646513Z",
     "iopub.status.busy": "2021-03-14T09:28:29.645748Z",
     "iopub.status.idle": "2021-03-14T09:28:29.781923Z",
     "shell.execute_reply": "2021-03-14T09:28:29.782489Z"
    },
    "papermill": {
     "duration": 0.180562,
     "end_time": "2021-03-14T09:28:29.782697",
     "exception": false,
     "start_time": "2021-03-14T09:28:29.602135",
     "status": "completed"
    },
    "tags": []
   },
   "outputs": [],
   "source": [
    "from sklearn.neighbors import KNeighborsClassifier\n",
    "knn = KNeighborsClassifier(algorithm='kd_tree')\n",
    "knn.fit(X_train,y_train)\n",
    "knn_pres = knn.predict(X_test)"
   ]
  },
  {
   "cell_type": "code",
   "execution_count": 20,
   "metadata": {
    "execution": {
     "iopub.execute_input": "2021-03-14T09:28:29.864265Z",
     "iopub.status.busy": "2021-03-14T09:28:29.863022Z",
     "iopub.status.idle": "2021-03-14T09:28:29.980180Z",
     "shell.execute_reply": "2021-03-14T09:28:29.979483Z"
    },
    "papermill": {
     "duration": 0.160622,
     "end_time": "2021-03-14T09:28:29.980320",
     "exception": false,
     "start_time": "2021-03-14T09:28:29.819698",
     "status": "completed"
    },
    "tags": []
   },
   "outputs": [],
   "source": [
    "y_pred = svc.predict(X_test)"
   ]
  },
  {
   "cell_type": "code",
   "execution_count": 21,
   "metadata": {
    "execution": {
     "iopub.execute_input": "2021-03-14T09:28:30.067058Z",
     "iopub.status.busy": "2021-03-14T09:28:30.065975Z",
     "iopub.status.idle": "2021-03-14T09:28:30.072718Z",
     "shell.execute_reply": "2021-03-14T09:28:30.072053Z"
    },
    "papermill": {
     "duration": 0.056345,
     "end_time": "2021-03-14T09:28:30.072866",
     "exception": false,
     "start_time": "2021-03-14T09:28:30.016521",
     "status": "completed"
    },
    "tags": []
   },
   "outputs": [
    {
     "data": {
      "text/html": [
       "<div>\n",
       "<style scoped>\n",
       "    .dataframe tbody tr th:only-of-type {\n",
       "        vertical-align: middle;\n",
       "    }\n",
       "\n",
       "    .dataframe tbody tr th {\n",
       "        vertical-align: top;\n",
       "    }\n",
       "\n",
       "    .dataframe thead th {\n",
       "        text-align: right;\n",
       "    }\n",
       "</style>\n",
       "<table border=\"1\" class=\"dataframe\">\n",
       "  <thead>\n",
       "    <tr style=\"text-align: right;\">\n",
       "      <th></th>\n",
       "      <th>Temprature</th>\n",
       "      <th>Humidity</th>\n",
       "      <th>PH</th>\n",
       "      <th>Rainfall</th>\n",
       "    </tr>\n",
       "  </thead>\n",
       "  <tbody>\n",
       "    <tr>\n",
       "      <th>2464</th>\n",
       "      <td>-0.427826</td>\n",
       "      <td>1.020423</td>\n",
       "      <td>-0.601420</td>\n",
       "      <td>-0.111780</td>\n",
       "    </tr>\n",
       "    <tr>\n",
       "      <th>1021</th>\n",
       "      <td>0.566371</td>\n",
       "      <td>0.142232</td>\n",
       "      <td>-0.054855</td>\n",
       "      <td>-0.508553</td>\n",
       "    </tr>\n",
       "    <tr>\n",
       "      <th>31</th>\n",
       "      <td>-0.651565</td>\n",
       "      <td>0.596820</td>\n",
       "      <td>-0.014239</td>\n",
       "      <td>1.403462</td>\n",
       "    </tr>\n",
       "    <tr>\n",
       "      <th>1530</th>\n",
       "      <td>-0.343052</td>\n",
       "      <td>-1.882617</td>\n",
       "      <td>-0.863475</td>\n",
       "      <td>-0.718603</td>\n",
       "    </tr>\n",
       "    <tr>\n",
       "      <th>694</th>\n",
       "      <td>-0.838155</td>\n",
       "      <td>-0.087639</td>\n",
       "      <td>-0.003160</td>\n",
       "      <td>-0.972636</td>\n",
       "    </tr>\n",
       "  </tbody>\n",
       "</table>\n",
       "</div>"
      ],
      "text/plain": [
       "      Temprature  Humidity        PH  Rainfall\n",
       "2464   -0.427826  1.020423 -0.601420 -0.111780\n",
       "1021    0.566371  0.142232 -0.054855 -0.508553\n",
       "31     -0.651565  0.596820 -0.014239  1.403462\n",
       "1530   -0.343052 -1.882617 -0.863475 -0.718603\n",
       "694    -0.838155 -0.087639 -0.003160 -0.972636"
      ]
     },
     "execution_count": 21,
     "metadata": {},
     "output_type": "execute_result"
    }
   ],
   "source": [
    "X_test.head()"
   ]
  },
  {
   "cell_type": "code",
   "execution_count": 22,
   "metadata": {
    "execution": {
     "iopub.execute_input": "2021-03-14T09:28:30.150777Z",
     "iopub.status.busy": "2021-03-14T09:28:30.149509Z",
     "iopub.status.idle": "2021-03-14T09:28:30.155093Z",
     "shell.execute_reply": "2021-03-14T09:28:30.154348Z"
    },
    "papermill": {
     "duration": 0.047472,
     "end_time": "2021-03-14T09:28:30.155239",
     "exception": false,
     "start_time": "2021-03-14T09:28:30.107767",
     "status": "completed"
    },
    "tags": []
   },
   "outputs": [
    {
     "data": {
      "text/plain": [
       "array(['apple', 'Ground Nut', 'rice', ..., 'Jute', 'Tea', 'Coconut'],\n",
       "      dtype=object)"
      ]
     },
     "execution_count": 22,
     "metadata": {},
     "output_type": "execute_result"
    }
   ],
   "source": [
    "y_pred"
   ]
  },
  {
   "cell_type": "code",
   "execution_count": 23,
   "metadata": {
    "execution": {
     "iopub.execute_input": "2021-03-14T09:28:30.232682Z",
     "iopub.status.busy": "2021-03-14T09:28:30.231476Z",
     "iopub.status.idle": "2021-03-14T09:28:30.307992Z",
     "shell.execute_reply": "2021-03-14T09:28:30.307298Z"
    },
    "papermill": {
     "duration": 0.117544,
     "end_time": "2021-03-14T09:28:30.308159",
     "exception": false,
     "start_time": "2021-03-14T09:28:30.190615",
     "status": "completed"
    },
    "tags": []
   },
   "outputs": [
    {
     "ename": "NameError",
     "evalue": "name 'sklearn' is not defined",
     "output_type": "error",
     "traceback": [
      "\u001b[0;31m---------------------------------------------------------------------------\u001b[0m",
      "\u001b[0;31mNameError\u001b[0m                                 Traceback (most recent call last)",
      "\u001b[0;32m<ipython-input-23-209493df833d>\u001b[0m in \u001b[0;36m<module>\u001b[0;34m\u001b[0m\n\u001b[0;32m----> 1\u001b[0;31m \u001b[0msklearn\u001b[0m\u001b[0;34m.\u001b[0m\u001b[0mmetrics\u001b[0m\u001b[0;34m.\u001b[0m\u001b[0maccuracy_score\u001b[0m\u001b[0;34m(\u001b[0m\u001b[0mactuals\u001b[0m\u001b[0;34m,\u001b[0m \u001b[0my_pred\u001b[0m\u001b[0;34m)\u001b[0m\u001b[0;34m\u001b[0m\u001b[0;34m\u001b[0m\u001b[0m\n\u001b[0m",
      "\u001b[0;31mNameError\u001b[0m: name 'sklearn' is not defined"
     ]
    }
   ],
   "source": [
    "sklearn.metrics.accuracy_score(actuals, y_pred)"
   ]
  },
  {
   "cell_type": "code",
   "execution_count": 24,
   "metadata": {
    "execution": {
     "iopub.execute_input": "2021-03-14T09:28:30.387318Z",
     "iopub.status.busy": "2021-03-14T09:28:30.386376Z",
     "iopub.status.idle": "2021-03-14T09:28:31.473984Z",
     "shell.execute_reply": "2021-03-14T09:28:31.471965Z"
    },
    "papermill": {
     "duration": 1.129311,
     "end_time": "2021-03-14T09:28:31.474175",
     "exception": false,
     "start_time": "2021-03-14T09:28:30.344864",
     "status": "completed"
    },
    "tags": []
   },
   "outputs": [],
   "source": [
    "import xgboost as xgb\n",
    "from sklearn.metrics import confusion_matrix, mean_squared_error"
   ]
  },
  {
   "cell_type": "code",
   "execution_count": 25,
   "metadata": {
    "execution": {
     "iopub.execute_input": "2021-03-14T09:28:31.562678Z",
     "iopub.status.busy": "2021-03-14T09:28:31.561506Z",
     "iopub.status.idle": "2021-03-14T09:28:33.549564Z",
     "shell.execute_reply": "2021-03-14T09:28:33.546280Z"
    },
    "papermill": {
     "duration": 2.038592,
     "end_time": "2021-03-14T09:28:33.549750",
     "exception": false,
     "start_time": "2021-03-14T09:28:31.511158",
     "status": "completed"
    },
    "tags": []
   },
   "outputs": [
    {
     "name": "stdout",
     "output_type": "stream",
     "text": [
      "0.9305962854349951\n"
     ]
    }
   ],
   "source": [
    "import sklearn\n",
    "param = {'max_depth':2, 'eta':1, 'objective':'binary:logistic' }\n",
    "xgb_model = xgb.XGBClassifier(param,n_jobs=1).fit(X_train, y_train)\n",
    "\n",
    "predictions = xgb_model.predict(X_test)\n",
    "actuals = y_test\n",
    "\n",
    "print(sklearn.metrics.accuracy_score(actuals, predictions))\n"
   ]
  },
  {
   "cell_type": "code",
   "execution_count": 26,
   "metadata": {
    "execution": {
     "iopub.execute_input": "2021-03-14T09:28:33.632565Z",
     "iopub.status.busy": "2021-03-14T09:28:33.631708Z",
     "iopub.status.idle": "2021-03-14T09:28:33.638039Z",
     "shell.execute_reply": "2021-03-14T09:28:33.637184Z"
    },
    "papermill": {
     "duration": 0.050885,
     "end_time": "2021-03-14T09:28:33.638212",
     "exception": false,
     "start_time": "2021-03-14T09:28:33.587327",
     "status": "completed"
    },
    "tags": []
   },
   "outputs": [],
   "source": [
    "import pickle \n",
    "  \n",
    " # Save the trained model as a pickle string. \n",
    "with open(\"knn\",\"wb\") as f:\n",
    "     pickle.dump(knn,f)"
   ]
  },
  {
   "cell_type": "code",
   "execution_count": null,
   "metadata": {
    "papermill": {
     "duration": 0.037347,
     "end_time": "2021-03-14T09:28:33.713926",
     "exception": false,
     "start_time": "2021-03-14T09:28:33.676579",
     "status": "completed"
    },
    "tags": []
   },
   "outputs": [],
   "source": []
  },
  {
   "cell_type": "code",
   "execution_count": 27,
   "metadata": {
    "execution": {
     "iopub.execute_input": "2021-03-14T09:28:33.808800Z",
     "iopub.status.busy": "2021-03-14T09:28:33.807355Z",
     "iopub.status.idle": "2021-03-14T09:29:01.792955Z",
     "shell.execute_reply": "2021-03-14T09:29:01.792344Z"
    },
    "papermill": {
     "duration": 28.041827,
     "end_time": "2021-03-14T09:29:01.793119",
     "exception": false,
     "start_time": "2021-03-14T09:28:33.751292",
     "status": "completed"
    },
    "tags": []
   },
   "outputs": [
    {
     "name": "stdout",
     "output_type": "stream",
     "text": [
      "0.9217986314760508\n"
     ]
    }
   ],
   "source": [
    "from sklearn.model_selection import KFold, train_test_split, GridSearchCV\n",
    "X_train, X_test, y_train, y_test = train_test_split(fin_df.drop('Label',axis=1), fin_df.Label, test_size=0.33)\n",
    "kf = KFold(n_splits=2, shuffle=True)\n",
    "xgb_model = xgb.XGBClassifier( n_jobs=1,n_estimators=1000,learning_rate=0.05,objective='multi:softprob',colsample_bytree=0.8, reg_alpha=0.005).fit(X_train, y_train,eval_metric=\"rmse\")\n",
    "predictions = xgb_model.predict(X_test)\n",
    "actuals = y_test\n",
    "print(sklearn.metrics.accuracy_score(actuals, predictions))"
   ]
  },
  {
   "cell_type": "code",
   "execution_count": 28,
   "metadata": {
    "execution": {
     "iopub.execute_input": "2021-03-14T09:29:01.889578Z",
     "iopub.status.busy": "2021-03-14T09:29:01.887968Z",
     "iopub.status.idle": "2021-03-14T09:29:03.646430Z",
     "shell.execute_reply": "2021-03-14T09:29:03.647037Z"
    },
    "papermill": {
     "duration": 1.812497,
     "end_time": "2021-03-14T09:29:03.647236",
     "exception": false,
     "start_time": "2021-03-14T09:29:01.834739",
     "status": "completed"
    },
    "tags": []
   },
   "outputs": [],
   "source": [
    "saved = xgb_model.save_model('Json_Model.json')"
   ]
  },
  {
   "cell_type": "code",
   "execution_count": 29,
   "metadata": {
    "execution": {
     "iopub.execute_input": "2021-03-14T09:29:03.730027Z",
     "iopub.status.busy": "2021-03-14T09:29:03.729257Z",
     "iopub.status.idle": "2021-03-14T09:29:03.733030Z",
     "shell.execute_reply": "2021-03-14T09:29:03.733619Z"
    },
    "papermill": {
     "duration": 0.048336,
     "end_time": "2021-03-14T09:29:03.733804",
     "exception": false,
     "start_time": "2021-03-14T09:29:03.685468",
     "status": "completed"
    },
    "tags": []
   },
   "outputs": [
    {
     "name": "stdout",
     "output_type": "stream",
     "text": [
      "None\n"
     ]
    }
   ],
   "source": [
    "print(saved)"
   ]
  },
  {
   "cell_type": "code",
   "execution_count": 30,
   "metadata": {
    "execution": {
     "iopub.execute_input": "2021-03-14T09:29:03.818652Z",
     "iopub.status.busy": "2021-03-14T09:29:03.817764Z",
     "iopub.status.idle": "2021-03-14T09:29:05.551537Z",
     "shell.execute_reply": "2021-03-14T09:29:05.550465Z"
    },
    "papermill": {
     "duration": 1.779703,
     "end_time": "2021-03-14T09:29:05.551730",
     "exception": false,
     "start_time": "2021-03-14T09:29:03.772027",
     "status": "completed"
    },
    "tags": []
   },
   "outputs": [
    {
     "name": "stdout",
     "output_type": "stream",
     "text": [
      "Feature: 0, Score: 0.20319\n",
      "Feature: 1, Score: 0.34883\n",
      "Feature: 2, Score: 0.16112\n",
      "Feature: 3, Score: 0.28686\n"
     ]
    },
    {
     "data": {
      "image/png": "[encoded data removed]",
      "text/plain": [
       "<Figure size 432x288 with 1 Axes>"
      ]
     },
     "metadata": {
      "needs_background": "light"
     },
     "output_type": "display_data"
    }
   ],
   "source": [
    "from matplotlib import pyplot\n",
    "importance = xgb_model.feature_importances_\n",
    "importance_label  = df.drop('label',axis=1).columns\n",
    "# summarize feature importance\n",
    "for i,v in enumerate(importance):\n",
    "    print('Feature: %0d, Score: %.5f' % (i,v))\n",
    "# plot feature importance\n",
    "pyplot.bar(importance_label, importance)\n",
    "pyplot.show()"
   ]
  },
  {
   "cell_type": "code",
   "execution_count": 31,
   "metadata": {
    "execution": {
     "iopub.execute_input": "2021-03-14T09:29:05.648271Z",
     "iopub.status.busy": "2021-03-14T09:29:05.647153Z",
     "iopub.status.idle": "2021-03-14T09:29:05.649729Z",
     "shell.execute_reply": "2021-03-14T09:29:05.650266Z"
    },
    "papermill": {
     "duration": 0.050295,
     "end_time": "2021-03-14T09:29:05.650428",
     "exception": false,
     "start_time": "2021-03-14T09:29:05.600133",
     "status": "completed"
    },
    "tags": []
   },
   "outputs": [],
   "source": [
    "importance_label  = df.drop('label',axis=1).columns"
   ]
  },
  {
   "cell_type": "code",
   "execution_count": 32,
   "metadata": {
    "execution": {
     "iopub.execute_input": "2021-03-14T09:29:05.738347Z",
     "iopub.status.busy": "2021-03-14T09:29:05.737188Z",
     "iopub.status.idle": "2021-03-14T09:29:05.744014Z",
     "shell.execute_reply": "2021-03-14T09:29:05.744704Z"
    },
    "papermill": {
     "duration": 0.054339,
     "end_time": "2021-03-14T09:29:05.744870",
     "exception": false,
     "start_time": "2021-03-14T09:29:05.690531",
     "status": "completed"
    },
    "tags": []
   },
   "outputs": [
    {
     "data": {
      "text/plain": [
       "Index(['temperature', 'humidity', 'ph', 'rainfall'], dtype='object')"
      ]
     },
     "execution_count": 32,
     "metadata": {},
     "output_type": "execute_result"
    }
   ],
   "source": [
    "importance_label"
   ]
  },
  {
   "cell_type": "code",
   "execution_count": 33,
   "metadata": {
    "execution": {
     "iopub.execute_input": "2021-03-14T09:29:05.831563Z",
     "iopub.status.busy": "2021-03-14T09:29:05.830405Z",
     "iopub.status.idle": "2021-03-14T09:29:05.840390Z",
     "shell.execute_reply": "2021-03-14T09:29:05.840980Z"
    },
    "papermill": {
     "duration": 0.055723,
     "end_time": "2021-03-14T09:29:05.841174",
     "exception": false,
     "start_time": "2021-03-14T09:29:05.785451",
     "status": "completed"
    },
    "tags": []
   },
   "outputs": [],
   "source": [
    "def save_model_to_db(model, client, db, dbconnection, model_name):\n",
    "    import pickle\n",
    "    import time\n",
    "    import pymongo\n",
    "    #pickling the model\n",
    "    pickled_model = pickle.dumps(model)\n",
    "    \n",
    "    #saving model to mongoDB\n",
    "    # creating connection\n",
    "    myclient = pymongo.MongoClient(client)\n",
    "    \n",
    "    #creating database in mongodb\n",
    "    mydb = myclient[db]\n",
    "    \n",
    "    #creating collection\n",
    "    mycon = mydb[dbconnection]\n",
    "    info = mycon.insert_one({model_name: pickled_model, 'name': model_name, 'created_time':time.time()})\n",
    "    print(info.inserted_id, ' saved with this id successfully!')\n",
    "    \n",
    "    details = {\n",
    "        'inserted_id':info.inserted_id,\n",
    "        'model_name':model_name,\n",
    "        'created_time':time.time()\n",
    "    }\n",
    "    \n",
    "    return details"
   ]
  },
  {
   "cell_type": "code",
   "execution_count": 34,
   "metadata": {
    "execution": {
     "iopub.execute_input": "2021-03-14T09:29:05.929574Z",
     "iopub.status.busy": "2021-03-14T09:29:05.928592Z",
     "iopub.status.idle": "2021-03-14T09:29:05.931972Z",
     "shell.execute_reply": "2021-03-14T09:29:05.931278Z"
    },
    "papermill": {
     "duration": 0.050627,
     "end_time": "2021-03-14T09:29:05.932138",
     "exception": false,
     "start_time": "2021-03-14T09:29:05.881511",
     "status": "completed"
    },
    "tags": []
   },
   "outputs": [],
   "source": [
    "# import pickle \n",
    "  \n",
    "# # Save the trained model as a pickle string. \n",
    "# saved_model = pickle.dump(xgb_model,'filename.pkl','wb') \n",
    "  \n",
    "# # Load the pickled model \n",
    "# Pickle = pickle.loads(saved_model) \n",
    "  \n",
    "# # Use the loaded pickled model to make predictions \n"
   ]
  },
  {
   "cell_type": "code",
   "execution_count": 35,
   "metadata": {
    "execution": {
     "iopub.execute_input": "2021-03-14T09:29:06.020586Z",
     "iopub.status.busy": "2021-03-14T09:29:06.019568Z",
     "iopub.status.idle": "2021-03-14T09:29:06.022650Z",
     "shell.execute_reply": "2021-03-14T09:29:06.022091Z"
    },
    "papermill": {
     "duration": 0.048882,
     "end_time": "2021-03-14T09:29:06.022786",
     "exception": false,
     "start_time": "2021-03-14T09:29:05.973904",
     "status": "completed"
    },
    "tags": []
   },
   "outputs": [],
   "source": [
    "# pickle.dump?"
   ]
  },
  {
   "cell_type": "code",
   "execution_count": 36,
   "metadata": {
    "execution": {
     "iopub.execute_input": "2021-03-14T09:29:06.110424Z",
     "iopub.status.busy": "2021-03-14T09:29:06.109521Z",
     "iopub.status.idle": "2021-03-14T09:29:06.112545Z",
     "shell.execute_reply": "2021-03-14T09:29:06.113045Z"
    },
    "papermill": {
     "duration": 0.05,
     "end_time": "2021-03-14T09:29:06.113239",
     "exception": false,
     "start_time": "2021-03-14T09:29:06.063239",
     "status": "completed"
    },
    "tags": []
   },
   "outputs": [],
   "source": [
    "# with open(\"Model_Pickle\",\"wb\") as f:\n",
    "#     pickle.dump(xgb_model,f)"
   ]
  },
  {
   "cell_type": "code",
   "execution_count": null,
   "metadata": {
    "papermill": {
     "duration": 0.040166,
     "end_time": "2021-03-14T09:29:06.194260",
     "exception": false,
     "start_time": "2021-03-14T09:29:06.154094",
     "status": "completed"
    },
    "tags": []
   },
   "outputs": [],
   "source": [
    "\n"
   ]
  },
  {
   "cell_type": "code",
   "execution_count": 37,
   "metadata": {
    "execution": {
     "iopub.execute_input": "2021-03-14T09:29:06.281889Z",
     "iopub.status.busy": "2021-03-14T09:29:06.280883Z",
     "iopub.status.idle": "2021-03-14T09:29:06.284128Z",
     "shell.execute_reply": "2021-03-14T09:29:06.283552Z"
    },
    "papermill": {
     "duration": 0.0496,
     "end_time": "2021-03-14T09:29:06.284262",
     "exception": false,
     "start_time": "2021-03-14T09:29:06.234662",
     "status": "completed"
    },
    "tags": []
   },
   "outputs": [],
   "source": [
    "# AdaBoostClassifier?"
   ]
  },
  {
   "cell_type": "code",
   "execution_count": 38,
   "metadata": {
    "execution": {
     "iopub.execute_input": "2021-03-14T09:29:06.372482Z",
     "iopub.status.busy": "2021-03-14T09:29:06.371325Z",
     "iopub.status.idle": "2021-03-14T09:29:06.375575Z",
     "shell.execute_reply": "2021-03-14T09:29:06.374946Z"
    },
    "papermill": {
     "duration": 0.050786,
     "end_time": "2021-03-14T09:29:06.375732",
     "exception": false,
     "start_time": "2021-03-14T09:29:06.324946",
     "status": "completed"
    },
    "tags": []
   },
   "outputs": [],
   "source": [
    "# from sklearn.ensemble import AdaBoostClassifier\n",
    "# ada = AdaBoostClassifier(learning_rate=0.1,n_estimators=1000).fit(X_train, y_train)\n",
    "# predictions = ada.predict(X_test)\n",
    "# actuals = y_test\n",
    "\n",
    "# print(sklearn.metrics.accuracy_score(actuals, predictions))\n"
   ]
  }
 ],
 "metadata": {
  "kernelspec": {
   "display_name": "Python 3",
   "language": "python",
   "name": "python3"
  },
  "language_info": {
   "codemirror_mode": {
    "name": "ipython",
    "version": 3
   },
   "file_extension": ".py",
   "mimetype": "text/x-python",
   "name": "python",
   "nbconvert_exporter": "python",
   "pygments_lexer": "ipython3",
   "version": "3.7.6"
  },
  "papermill": {
   "duration": 45.865585,
   "end_time": "2021-03-14T09:29:06.527406",
   "environment_variables": {},
   "exception": null,
   "input_path": "__notebook__.ipynb",
   "output_path": "__notebook__.ipynb",
   "parameters": {},
   "start_time": "2021-03-14T09:28:20.661821",
   "version": "2.1.0"
  }
 },
 "nbformat": 4,
 "nbformat_minor": 4
}
